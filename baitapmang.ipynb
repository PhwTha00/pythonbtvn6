{
  "nbformat": 4,
  "nbformat_minor": 0,
  "metadata": {
    "colab": {
      "provenance": [],
      "authorship_tag": "ABX9TyMjfsa6FyhFTmmJj0rarEZv",
      "include_colab_link": true
    },
    "kernelspec": {
      "name": "python3",
      "display_name": "Python 3"
    },
    "language_info": {
      "name": "python"
    }
  },
  "cells": [
    {
      "cell_type": "markdown",
      "metadata": {
        "id": "view-in-github",
        "colab_type": "text"
      },
      "source": [
        "<a href=\"https://colab.research.google.com/github/PhwTha00/pythonbtvn6/blob/main/baitapmang.ipynb\" target=\"_parent\"><img src=\"https://colab.research.google.com/assets/colab-badge.svg\" alt=\"Open In Colab\"/></a>"
      ]
    },
    {
      "cell_type": "markdown",
      "source": [
        "Viết chương trình người dùng nhập vào 2 mảng 2 chiều có cùng kích thước (với điều kiện không có số 0) Thực hiện các phép toán cộng, trừ, nhân, chia các phần tử của 2 mảng đó.\n",
        "\n",
        "Tính tổng các phần tử theo cột của mảng cuối cùng. (np.sum)\n",
        "Tính tích các phần tử theo hàng của mảng cuối cùng. (np.prod)"
      ],
      "metadata": {
        "id": "UuVKTYMReKSk"
      }
    },
    {
      "cell_type": "code",
      "source": [
        "import numpy as np\n",
        "import timeit"
      ],
      "metadata": {
        "id": "FEyxy-fxeJYW"
      },
      "execution_count": 2,
      "outputs": []
    },
    {
      "cell_type": "code",
      "source": [
        "rows = int(input(\"Nhập số hàng của mảng: \"))\n",
        "cols = int(input(\"Nhập số cột của mảng: \"))\n"
      ],
      "metadata": {
        "colab": {
          "base_uri": "https://localhost:8080/"
        },
        "id": "XbdEw5tcimBi",
        "outputId": "0600c7c9-7259-428a-9474-30acf27e2805"
      },
      "execution_count": 19,
      "outputs": [
        {
          "name": "stdout",
          "output_type": "stream",
          "text": [
            "Nhập số hàng của mảng: 2\n",
            "Nhập số cột của mảng: 3\n"
          ]
        }
      ]
    },
    {
      "cell_type": "code",
      "source": [
        "print(\"Nhập các phần tử của mảng thứ nhất:\")\n",
        "array1 = np.zeros((rows, cols), dtype=float)\n",
        "for i in range(rows):\n",
        "    for j in range(cols):\n",
        "        array1[i][j] = float(input(f\"Nhập phần tử [{i}][{j}]: \"))\n",
        "\n",
        "# Kiểm tra mảng có chứa số 0 không\n",
        "while 0 in array1:\n",
        "    print(\"Mảng không được chứa số 0. Vui lòng nhập lại.\")\n",
        "    array1 = np.zeros((rows, cols), dtype=float)\n",
        "    for i in range(rows):\n",
        "        for j in range(cols):\n",
        "            array1[i][j] = float(input(f\"Nhập phần tử [{i}][{j}]: \"))\n",
        "np.set_printoptions(formatter={'float': lambda x: \"{: .0f}\".format(x)})\n",
        "print(\"Mảng thứ nhất:\")\n",
        "print(array1)"
      ],
      "metadata": {
        "colab": {
          "base_uri": "https://localhost:8080/"
        },
        "id": "2N0RYL1BeOpU",
        "outputId": "3978f958-19d5-4296-e099-efe7b58a6f79"
      },
      "execution_count": 30,
      "outputs": [
        {
          "output_type": "stream",
          "name": "stdout",
          "text": [
            "Nhập các phần tử của mảng thứ nhất:\n",
            "Nhập phần tử [0][0]: 1\n",
            "Nhập phần tử [0][1]: 3\n",
            "Nhập phần tử [0][2]: 5\n",
            "Nhập phần tử [1][0]: 2\n",
            "Nhập phần tử [1][1]: 7\n",
            "Nhập phần tử [1][2]: 6\n",
            "Mảng thứ nhất:\n",
            "[[ 1  3  5]\n",
            " [ 2  7  6]]\n"
          ]
        }
      ]
    },
    {
      "cell_type": "code",
      "source": [
        "print(\"Nhập các phần tử của mảng thứ hai:\")\n",
        "array2 = np.zeros((rows, cols), dtype=float)\n",
        "for i in range(rows):\n",
        "    for j in range(cols):\n",
        "        array2[i][j] = float(input(f\"Nhập phần tử [{i}][{j}]: \"))\n",
        "\n",
        "# Kiểm tra mảng có chứa số 0 không\n",
        "while 0 in array2:\n",
        "    print(\"Mảng không được chứa số 0. Vui lòng nhập lại.\")\n",
        "    array2 = np.zeros((rows, cols), dtype=float)\n",
        "    for i in range(rows):\n",
        "        for j in range(cols):\n",
        "            array2[i][j] = float(input(f\"Nhập phần tử [{i}][{j}]: \"))\n",
        "np.set_printoptions(formatter={'float': lambda x: \"{: .0f}\".format(x)})\n",
        "print(\"Mảng thứ hai:\")\n",
        "print(array2)"
      ],
      "metadata": {
        "colab": {
          "base_uri": "https://localhost:8080/"
        },
        "id": "bRbK4TtWg40H",
        "outputId": "7027d94d-65ac-40a7-cd00-efc6f3d61c4b"
      },
      "execution_count": 31,
      "outputs": [
        {
          "output_type": "stream",
          "name": "stdout",
          "text": [
            "Nhập các phần tử của mảng thứ hai:\n",
            "Nhập phần tử [0][0]: 4\n",
            "Nhập phần tử [0][1]: 3\n",
            "Nhập phần tử [0][2]: 8\n",
            "Nhập phần tử [1][0]: 5\n",
            "Nhập phần tử [1][1]: 9\n",
            "Nhập phần tử [1][2]: 2\n",
            "Mảng thứ hai:\n",
            "[[ 4  3  8]\n",
            " [ 5  9  2]]\n"
          ]
        }
      ]
    },
    {
      "cell_type": "code",
      "source": [
        "sum_array = array1 + array2\n",
        "print(\"Tổng của hai mảng:\")\n",
        "print(sum_array)"
      ],
      "metadata": {
        "colab": {
          "base_uri": "https://localhost:8080/"
        },
        "id": "6ZhYqeJmhRJv",
        "outputId": "12fe1645-7f9f-47e3-f16e-905d2cfa56bf"
      },
      "execution_count": 32,
      "outputs": [
        {
          "output_type": "stream",
          "name": "stdout",
          "text": [
            "Tổng của hai mảng:\n",
            "[[ 5  6  13]\n",
            " [ 7  16  8]]\n"
          ]
        }
      ]
    },
    {
      "cell_type": "code",
      "source": [
        "difference_array = array1 - array2\n",
        "print(\"Hiệu của hai mảng:\")\n",
        "print(difference_array)"
      ],
      "metadata": {
        "colab": {
          "base_uri": "https://localhost:8080/"
        },
        "id": "8YBzAya8hTqU",
        "outputId": "8d3e1ac5-1ce1-44bd-8b4d-909a38576837"
      },
      "execution_count": 33,
      "outputs": [
        {
          "output_type": "stream",
          "name": "stdout",
          "text": [
            "Hiệu của hai mảng:\n",
            "[[-3  0 -3]\n",
            " [-3 -2  4]]\n"
          ]
        }
      ]
    },
    {
      "cell_type": "code",
      "source": [
        "product_array = array1 * array2\n",
        "print(\"Tích của hai mảng:\")\n",
        "print(product_array)"
      ],
      "metadata": {
        "colab": {
          "base_uri": "https://localhost:8080/"
        },
        "id": "A8bgywObhWwl",
        "outputId": "dde8c0c0-37fc-4c08-e317-02211615d8ef"
      },
      "execution_count": 34,
      "outputs": [
        {
          "output_type": "stream",
          "name": "stdout",
          "text": [
            "Tích của hai mảng:\n",
            "[[ 4  9  40]\n",
            " [ 10  63  12]]\n"
          ]
        }
      ]
    },
    {
      "cell_type": "code",
      "source": [
        "quotient_array = np.divide(array1, array2, where=array2 != 0)\n",
        "print(\"Thương của hai mảng:\")\n",
        "print(quotient_array)"
      ],
      "metadata": {
        "colab": {
          "base_uri": "https://localhost:8080/"
        },
        "id": "WaFloiGOhbyz",
        "outputId": "6ce56d17-f4e2-4e5a-a815-4b4a1f3dcc96"
      },
      "execution_count": 35,
      "outputs": [
        {
          "output_type": "stream",
          "name": "stdout",
          "text": [
            "Thương của hai mảng:\n",
            "[[ 0  1  1]\n",
            " [ 0  1  3]]\n"
          ]
        }
      ]
    },
    {
      "cell_type": "code",
      "source": [
        "column_sum = np.sum(quotient_array, axis=0)\n",
        "print(\"Tổng các phần tử theo cột của mảng cuối cùng:\", column_sum)"
      ],
      "metadata": {
        "colab": {
          "base_uri": "https://localhost:8080/"
        },
        "id": "BNgw2y44hgfj",
        "outputId": "a75aef8d-3a68-4866-fa07-859e86155d03"
      },
      "execution_count": 36,
      "outputs": [
        {
          "output_type": "stream",
          "name": "stdout",
          "text": [
            "Tổng các phần tử theo cột của mảng cuối cùng: [ 1  2  4]\n"
          ]
        }
      ]
    },
    {
      "cell_type": "code",
      "source": [
        "row_product = np.prod(product_array, axis=1)\n",
        "print(\"Tích các phần tử theo hàng của mảng cuối cùng:\", row_product)\n"
      ],
      "metadata": {
        "colab": {
          "base_uri": "https://localhost:8080/"
        },
        "id": "ut0V80E8hhIf",
        "outputId": "e0a14de7-d60c-4563-c96b-9b63be6f1928"
      },
      "execution_count": 37,
      "outputs": [
        {
          "output_type": "stream",
          "name": "stdout",
          "text": [
            "Tích các phần tử theo hàng của mảng cuối cùng: [ 1440  7560]\n"
          ]
        }
      ]
    }
  ]
}