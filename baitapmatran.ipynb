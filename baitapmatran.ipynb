{
  "nbformat": 4,
  "nbformat_minor": 0,
  "metadata": {
    "colab": {
      "provenance": [],
      "authorship_tag": "ABX9TyM1y+1xu8kMW5VY5SVO4IRm",
      "include_colab_link": true
    },
    "kernelspec": {
      "name": "python3",
      "display_name": "Python 3"
    },
    "language_info": {
      "name": "python"
    }
  },
  "cells": [
    {
      "cell_type": "markdown",
      "metadata": {
        "id": "view-in-github",
        "colab_type": "text"
      },
      "source": [
        "<a href=\"https://colab.research.google.com/github/PhwTha00/pythonbtvn6/blob/main/baitapmatran.ipynb\" target=\"_parent\"><img src=\"https://colab.research.google.com/assets/colab-badge.svg\" alt=\"Open In Colab\"/></a>"
      ]
    },
    {
      "cell_type": "code",
      "execution_count": 1,
      "metadata": {
        "id": "2IwDrW2rmi3f"
      },
      "outputs": [],
      "source": [
        "import numpy as np"
      ]
    },
    {
      "cell_type": "code",
      "source": [
        "A = np.array([[10, 1, 2],[9,7,4],[0,2,1]])\n",
        "B = np.array([[2, 3, 4],[0,4,2],[3,2,1]])\n",
        "print(A)\n",
        "print(B)"
      ],
      "metadata": {
        "colab": {
          "base_uri": "https://localhost:8080/"
        },
        "id": "TgYLCVAlpBhu",
        "outputId": "085773b9-5384-4900-b695-0e7ca69411a6"
      },
      "execution_count": 3,
      "outputs": [
        {
          "output_type": "stream",
          "name": "stdout",
          "text": [
            "[[10  1  2]\n",
            " [ 9  7  4]\n",
            " [ 0  2  1]]\n",
            "[[2 3 4]\n",
            " [0 4 2]\n",
            " [3 2 1]]\n"
          ]
        }
      ]
    },
    {
      "cell_type": "code",
      "source": [
        "# 1. Phép tính AB\n",
        "result1 = np.dot(A, B)\n",
        "print(\"AB:\")\n",
        "print(result1)"
      ],
      "metadata": {
        "colab": {
          "base_uri": "https://localhost:8080/"
        },
        "id": "ENHW9-rnpLLt",
        "outputId": "0a297486-4a39-46e0-bfa8-609fc879e085"
      },
      "execution_count": 4,
      "outputs": [
        {
          "output_type": "stream",
          "name": "stdout",
          "text": [
            "AB:\n",
            "[[26 38 44]\n",
            " [30 63 54]\n",
            " [ 3 10  5]]\n"
          ]
        }
      ]
    },
    {
      "cell_type": "code",
      "source": [
        "# 2. Phép tính BA^T * A * B^T\n",
        "result2 = np.dot(np.dot(B, A.T), np.dot(A, B.T))\n",
        "print(\"BA^T * A * B^T:\")\n",
        "print(result2)"
      ],
      "metadata": {
        "colab": {
          "base_uri": "https://localhost:8080/"
        },
        "id": "3vrppAGWpMlA",
        "outputId": "96f0b17b-a803-45cc-d325-4a9b8d1ac146"
      },
      "execution_count": 5,
      "outputs": [
        {
          "output_type": "stream",
          "name": "stdout",
          "text": [
            "BA^T * A * B^T:\n",
            "[[4086 2328 3579]\n",
            " [2328 1460 1942]\n",
            " [3579 1942 3206]]\n"
          ]
        }
      ]
    },
    {
      "cell_type": "code",
      "source": [
        "# 3. Phép tính AB^T * BA^T\n",
        "result3 = np.dot(np.dot(A, B.T), np.dot(B, A.T))\n",
        "print(\"AB^T * BA^T:\")\n",
        "print(result3)"
      ],
      "metadata": {
        "colab": {
          "base_uri": "https://localhost:8080/"
        },
        "id": "ea1Q8XVUpPvW",
        "outputId": "e4a00206-1246-47e5-c1d1-254d1968145a"
      },
      "execution_count": 6,
      "outputs": [
        {
          "output_type": "stream",
          "name": "stdout",
          "text": [
            "AB^T * BA^T:\n",
            "[[2181 3523  560]\n",
            " [3523 6346 1135]\n",
            " [ 560 1135  225]]\n"
          ]
        }
      ]
    },
    {
      "cell_type": "code",
      "source": [
        "# Nhận xét về kết quả của biểu thức 3 và biểu thức 2\n",
        "if np.array_equal(result3, result2):\n",
        "    print(\"Kết quả của biểu thức 3 và biểu thức 2 là giống nhau.\")\n",
        "else:\n",
        "    print(\"Kết quả của biểu thức 3 và biểu thức 2 là khác nhau.\")\n",
        "\n"
      ],
      "metadata": {
        "colab": {
          "base_uri": "https://localhost:8080/"
        },
        "id": "6MPYJGbypTla",
        "outputId": "9743d945-d1a1-49a8-f3c6-6bcc8c7b3de7"
      },
      "execution_count": 8,
      "outputs": [
        {
          "output_type": "stream",
          "name": "stdout",
          "text": [
            "Kết quả của biểu thức 3 và biểu thức 2 là khác nhau.\n"
          ]
        }
      ]
    },
    {
      "cell_type": "code",
      "source": [
        "# Tính toán các thuộc tính của ma trận A\n",
        "rank_A = np.linalg.matrix_rank(A)\n",
        "det_A = np.linalg.det(A)\n",
        "inv_A = np.linalg.inv(A)\n",
        "trace_A = np.trace(A)\n",
        "\n",
        "print(\"\\nThuộc tính của ma trận A:\")\n",
        "print(\"Rank của A:\", rank_A)\n",
        "print(\"Determinant của A:\", det_A)\n",
        "print(\"Ma trận nghịch đảo của A:\")\n",
        "print(inv_A)\n",
        "print(\"Trace của A:\", trace_A)"
      ],
      "metadata": {
        "colab": {
          "base_uri": "https://localhost:8080/"
        },
        "id": "GcHRR248ppMR",
        "outputId": "468668e6-8095-40de-8dac-0af3b2f8201b"
      },
      "execution_count": 9,
      "outputs": [
        {
          "output_type": "stream",
          "name": "stdout",
          "text": [
            "\n",
            "Thuộc tính của ma trận A:\n",
            "Rank của A: 3\n",
            "Determinant của A: 16.999999999999993\n",
            "Ma trận nghịch đảo của A:\n",
            "[[-0.05882353  0.17647059 -0.58823529]\n",
            " [-0.52941176  0.58823529 -1.29411765]\n",
            " [ 1.05882353 -1.17647059  3.58823529]]\n",
            "Trace của A: 18\n"
          ]
        }
      ]
    },
    {
      "cell_type": "code",
      "source": [
        "# 1. Concatenate ma trận A và ma trận B theo dòng.\n",
        "concatenated_rows = np.concatenate((A, B), axis=0)\n",
        "print(\"\\nConcatenated theo dòng:\")\n",
        "print(concatenated_rows)"
      ],
      "metadata": {
        "colab": {
          "base_uri": "https://localhost:8080/"
        },
        "id": "YwOGWXIFpvRH",
        "outputId": "160ba317-dbe6-4888-f1a0-5790482283ee"
      },
      "execution_count": 10,
      "outputs": [
        {
          "output_type": "stream",
          "name": "stdout",
          "text": [
            "\n",
            "Concatenated theo dòng:\n",
            "[[10  1  2]\n",
            " [ 9  7  4]\n",
            " [ 0  2  1]\n",
            " [ 2  3  4]\n",
            " [ 0  4  2]\n",
            " [ 3  2  1]]\n"
          ]
        }
      ]
    },
    {
      "cell_type": "code",
      "source": [
        "# 2. Reshape ma trận A thành vecto\n",
        "reshaped_vector = np.reshape(A, (-1,))\n",
        "print(\"\\nReshape thành vecto:\")\n",
        "print(reshaped_vector)"
      ],
      "metadata": {
        "colab": {
          "base_uri": "https://localhost:8080/"
        },
        "id": "AjyVx39TpzRU",
        "outputId": "3a28b9a4-f668-432a-aa70-07dff34f78e8"
      },
      "execution_count": 11,
      "outputs": [
        {
          "output_type": "stream",
          "name": "stdout",
          "text": [
            "\n",
            "Reshape thành vecto:\n",
            "[10  1  2  9  7  4  0  2  1]\n"
          ]
        }
      ]
    },
    {
      "cell_type": "code",
      "source": [
        "# 1. Phân phối xác suất sau khi đi qua hàm softmax các dòng của A\n",
        "softmax_probabilities = np.apply_along_axis(lambda x: np.exp(x) / np.sum(np.exp(x)), axis=1, arr=A)\n",
        "print(\"\\nPhân phối xác suất sau khi đi qua hàm softmax các dòng của A:\")\n",
        "print(softmax_probabilities)"
      ],
      "metadata": {
        "colab": {
          "base_uri": "https://localhost:8080/"
        },
        "id": "RhCZo5Agp1U1",
        "outputId": "5d0d8f28-f37c-4aca-e23f-e82ffc779499"
      },
      "execution_count": 12,
      "outputs": [
        {
          "output_type": "stream",
          "name": "stdout",
          "text": [
            "\n",
            "Phân phối xác suất sau khi đi qua hàm softmax các dòng của A:\n",
            "[[9.99541338e-01 1.23353201e-04 3.35308764e-04]\n",
            " [8.75600595e-01 1.18499655e-01 5.89975040e-03]\n",
            " [9.00305732e-02 6.65240956e-01 2.44728471e-01]]\n"
          ]
        }
      ]
    },
    {
      "cell_type": "code",
      "source": [
        "# 2. Tìm ra nhãn dự báo cho mỗi dòng\n",
        "predicted_labels = np.argmax(softmax_probabilities, axis=1)\n",
        "print(\"\\nNhãn dự báo cho mỗi dòng:\")\n",
        "print(predicted_labels)"
      ],
      "metadata": {
        "colab": {
          "base_uri": "https://localhost:8080/"
        },
        "id": "bYfpa4Hvp4e8",
        "outputId": "b55d353c-6c4d-44c1-b26a-810896791b63"
      },
      "execution_count": 13,
      "outputs": [
        {
          "output_type": "stream",
          "name": "stdout",
          "text": [
            "\n",
            "Nhãn dự báo cho mỗi dòng:\n",
            "[0 0 1]\n"
          ]
        }
      ]
    },
    {
      "cell_type": "code",
      "source": [
        "# 3. Tính tổng, trung bình, min, max của mỗi dòng\n",
        "sum_rows = np.sum(A, axis=1)\n",
        "mean_rows = np.mean(A, axis=1)\n",
        "min_rows = np.min(A, axis=1)\n",
        "max_rows = np.max(A, axis=1)\n",
        "\n",
        "print(\"\\nTổng các dòng của A:\", sum_rows)\n",
        "print(\"Trung bình các dòng của A:\", mean_rows)\n",
        "print(\"Giá trị nhỏ nhất của mỗi dòng của A:\", min_rows)\n",
        "print(\"Giá trị lớn nhất của mỗi dòng của A:\", max_rows)"
      ],
      "metadata": {
        "colab": {
          "base_uri": "https://localhost:8080/"
        },
        "id": "4jGfhWfBp5tR",
        "outputId": "18b2597e-31de-48be-c0a6-c8e252a98812"
      },
      "execution_count": 14,
      "outputs": [
        {
          "output_type": "stream",
          "name": "stdout",
          "text": [
            "\n",
            "Tổng các dòng của A: [13 20  3]\n",
            "Trung bình các dòng của A: [4.33333333 6.66666667 1.        ]\n",
            "Giá trị nhỏ nhất của mỗi dòng của A: [1 4 0]\n",
            "Giá trị lớn nhất của mỗi dòng của A: [10  9  2]\n"
          ]
        }
      ]
    }
  ]
}