{
  "nbformat": 4,
  "nbformat_minor": 0,
  "metadata": {
    "colab": {
      "provenance": [],
      "toc_visible": true,
      "authorship_tag": "ABX9TyONUZwJJiroLoAkLWLSmIxy",
      "include_colab_link": true
    },
    "kernelspec": {
      "name": "python3",
      "display_name": "Python 3"
    },
    "language_info": {
      "name": "python"
    }
  },
  "cells": [
    {
      "cell_type": "markdown",
      "metadata": {
        "id": "view-in-github",
        "colab_type": "text"
      },
      "source": [
        "<a href=\"https://colab.research.google.com/github/PhwTha00/pythonbtvn6/blob/main/baitapvoifileexcel.ipynb\" target=\"_parent\"><img src=\"https://colab.research.google.com/assets/colab-badge.svg\" alt=\"Open In Colab\"/></a>"
      ]
    },
    {
      "cell_type": "code",
      "source": [
        "## Kết nối google drive và google collab\n",
        "from google.colab import drive\n",
        "\n",
        "drive.mount(\"/content/drive\")"
      ],
      "metadata": {
        "colab": {
          "base_uri": "https://localhost:8080/"
        },
        "id": "ZRkkRHd5rbH4",
        "outputId": "a8499102-d3b6-4c3e-edc5-5db337acad26"
      },
      "execution_count": 12,
      "outputs": [
        {
          "output_type": "stream",
          "name": "stdout",
          "text": [
            "Drive already mounted at /content/drive; to attempt to forcibly remount, call drive.mount(\"/content/drive\", force_remount=True).\n"
          ]
        }
      ]
    },
    {
      "cell_type": "code",
      "execution_count": 13,
      "metadata": {
        "id": "rzsjJrtgqbQq"
      },
      "outputs": [],
      "source": [
        "import numpy as np\n",
        "import pandas as pd"
      ]
    },
    {
      "cell_type": "code",
      "source": [
        "## Đọc file data từ google drive\n",
        "dataset = pd.read_excel(\"/content/drive/MyDrive/data_06.xlsx\")\n",
        "print(dataset)\n",
        "print(dataset.head())\n"
      ],
      "metadata": {
        "colab": {
          "base_uri": "https://localhost:8080/"
        },
        "id": "U8D5J2KoqnNM",
        "outputId": "08bc16cf-7175-4816-bbb4-47fe70b4dad7"
      },
      "execution_count": 17,
      "outputs": [
        {
          "output_type": "stream",
          "name": "stdout",
          "text": [
            "                     Tên  Mã số               Trường cấp 2  Nguyện vọng 1  \\\n",
            "0           QUÁCH KIM HÀ  60132             THCS Phú Cường              6   \n",
            "1       PHẠM TRÚC PHƯƠNG  60421        THCS Trần Đại Nghĩa              6   \n",
            "2         TRẦN KHẢ DOANH  60075    THCS-THPT Nguyễn Khuyến              6   \n",
            "3      NGUYỄN MAI PHƯƠNG  60417        THCS Trần Đại Nghĩa              6   \n",
            "4          TRẦN MINH THY  60558  THCS Nguyễn Thị Minh Khai              6   \n",
            "..                   ...    ...                        ...            ...   \n",
            "636        TRẦN NHẬT ANH  60032       THCS Nguyễn Văn Tiết              6   \n",
            "637  DOÃN THỊ PHƯƠNG ANH  60017            THCS Bình Chiểu              6   \n",
            "638       CÙ THỊ GIA HÂN  60151     THCS Nguyễn Trung Trực              6   \n",
            "639      NGUYỄN TƯỜNG VY  60622        THCS Trịnh Hoài Đức              6   \n",
            "640         LƯU QUANG ĐÔ  60108        THCS Trịnh Hoài Đức              6   \n",
            "\n",
            "     Nguyện vọng 2  Điểm cộng   Văn   Anh  Toán   Tổng  Xếp hạng  \n",
            "0              2.0        3.0  9.00   8.9  8.75  29.65         1  \n",
            "1              7.0        2.0  8.75   9.6  9.25  29.60         2  \n",
            "2              7.0        2.0  8.25   9.6  9.25  29.10         3  \n",
            "3              7.0        NaN  8.75  10.0  9.25  28.00         4  \n",
            "4              2.0        2.0  8.25   9.7  8.00  27.95         5  \n",
            "..             ...        ...   ...   ...   ...    ...       ...  \n",
            "636            8.0        NaN  6.75   3.9  2.75  13.40       637  \n",
            "637           30.0        NaN  6.25   3.6  3.50  13.35       638  \n",
            "638            8.0        NaN  6.00   3.5  3.25  12.75       639  \n",
            "639            8.0        NaN  6.25   3.2  3.00  12.45       640  \n",
            "640           30.0        NaN  5.50   2.4  3.75  11.65       641  \n",
            "\n",
            "[641 rows x 11 columns]\n",
            "                 Tên  Mã số               Trường cấp 2  Nguyện vọng 1  \\\n",
            "0       QUÁCH KIM HÀ  60132             THCS Phú Cường              6   \n",
            "1   PHẠM TRÚC PHƯƠNG  60421        THCS Trần Đại Nghĩa              6   \n",
            "2     TRẦN KHẢ DOANH  60075    THCS-THPT Nguyễn Khuyến              6   \n",
            "3  NGUYỄN MAI PHƯƠNG  60417        THCS Trần Đại Nghĩa              6   \n",
            "4      TRẦN MINH THY  60558  THCS Nguyễn Thị Minh Khai              6   \n",
            "\n",
            "   Nguyện vọng 2  Điểm cộng   Văn   Anh  Toán   Tổng  Xếp hạng  \n",
            "0            2.0        3.0  9.00   8.9  8.75  29.65         1  \n",
            "1            7.0        2.0  8.75   9.6  9.25  29.60         2  \n",
            "2            7.0        2.0  8.25   9.6  9.25  29.10         3  \n",
            "3            7.0        NaN  8.75  10.0  9.25  28.00         4  \n",
            "4            2.0        2.0  8.25   9.7  8.00  27.95         5  \n"
          ]
        }
      ]
    },
    {
      "cell_type": "code",
      "source": [
        "data = dataset.to_numpy()\n",
        "print(data.shape)"
      ],
      "metadata": {
        "colab": {
          "base_uri": "https://localhost:8080/"
        },
        "id": "oHCL87h4t9S0",
        "outputId": "01262faa-0bc4-4701-d6a3-82aceed066a3"
      },
      "execution_count": 18,
      "outputs": [
        {
          "output_type": "stream",
          "name": "stdout",
          "text": [
            "(641, 11)\n"
          ]
        }
      ]
    },
    {
      "cell_type": "code",
      "source": [
        "print(data[0])"
      ],
      "metadata": {
        "colab": {
          "base_uri": "https://localhost:8080/"
        },
        "id": "1CreIab7uBVA",
        "outputId": "f2c304c5-5a15-4442-9d95-beeb29143c1c"
      },
      "execution_count": 19,
      "outputs": [
        {
          "output_type": "stream",
          "name": "stdout",
          "text": [
            "['QUÁCH KIM HÀ' 60132 'THCS Phú Cường' 6 2.0 3.0 9.0 8.9 8.75 29.65 1]\n"
          ]
        }
      ]
    },
    {
      "cell_type": "code",
      "source": [
        "print(data.dtype)"
      ],
      "metadata": {
        "colab": {
          "base_uri": "https://localhost:8080/"
        },
        "id": "6NeTLmRjuC4V",
        "outputId": "58bf6f79-5e13-46cc-b3f9-04904e91d425"
      },
      "execution_count": 20,
      "outputs": [
        {
          "output_type": "stream",
          "name": "stdout",
          "text": [
            "object\n"
          ]
        }
      ]
    },
    {
      "cell_type": "code",
      "source": [
        "print(data[0].dtype)"
      ],
      "metadata": {
        "colab": {
          "base_uri": "https://localhost:8080/"
        },
        "id": "Osdo2vTnuE0r",
        "outputId": "f5a25c92-9577-460c-8649-4d83fa89c005"
      },
      "execution_count": 21,
      "outputs": [
        {
          "output_type": "stream",
          "name": "stdout",
          "text": [
            "object\n"
          ]
        }
      ]
    },
    {
      "cell_type": "code",
      "source": [
        "np.nan_to_num([0.3, np.nan, 2.4])"
      ],
      "metadata": {
        "colab": {
          "base_uri": "https://localhost:8080/"
        },
        "id": "6_bguFeeuFah",
        "outputId": "b628fa61-fa36-4ed0-a896-82e787cd85b8"
      },
      "execution_count": 22,
      "outputs": [
        {
          "output_type": "execute_result",
          "data": {
            "text/plain": [
              "array([0.3, 0. , 2.4])"
            ]
          },
          "metadata": {},
          "execution_count": 22
        }
      ]
    },
    {
      "cell_type": "code",
      "source": [
        "data[:, 5] = np.nan_to_num(data[:, 5].astype(float))\n",
        "print(data[:, 5])\n",
        "print(data[-1])"
      ],
      "metadata": {
        "colab": {
          "base_uri": "https://localhost:8080/"
        },
        "id": "0nThEKhZuI0i",
        "outputId": "45593c51-0077-45f4-9be7-25b70e8e9c78"
      },
      "execution_count": 23,
      "outputs": [
        {
          "output_type": "stream",
          "name": "stdout",
          "text": [
            "[3.0 2.0 2.0 0.0 2.0 0.0 2.0 0.0 0.0 2.0 2.0 0.0 1.0 0.0 0.0 2.0 2.0 1.0\n",
            " 0.0 1.0 0.0 0.0 0.0 0.0 2.0 2.0 2.0 0.0 2.0 0.0 0.0 2.0 0.0 0.0 0.0 0.0\n",
            " 0.0 0.0 0.0 0.0 2.0 0.0 2.0 0.0 2.0 0.0 2.5 0.0 0.0 0.0 2.0 0.0 0.0 0.0\n",
            " 0.0 0.0 0.0 0.0 0.0 1.0 0.0 0.0 0.0 1.0 0.0 0.0 0.0 0.0 0.0 0.0 0.0 0.0\n",
            " 1.0 0.0 2.0 0.0 1.0 0.0 1.0 2.0 0.0 0.0 0.0 0.0 0.0 2.0 0.0 2.0 1.0 0.0\n",
            " 1.0 0.0 1.0 0.0 1.0 0.0 0.0 1.0 0.0 1.0 2.0 0.0 0.0 0.0 0.0 0.0 2.0 0.0\n",
            " 0.0 1.0 0.0 0.0 0.0 0.0 1.0 1.0 1.0 0.0 1.0 0.0 0.0 0.0 1.0 0.0 2.0 0.0\n",
            " 0.0 2.0 0.0 0.0 0.0 0.0 0.0 0.0 0.0 0.0 1.0 1.0 0.0 0.0 1.0 0.0 0.0 0.0\n",
            " 0.0 1.0 0.0 2.0 0.0 0.0 0.0 2.0 2.0 1.0 1.0 0.0 0.0 0.0 0.0 2.0 0.0 0.0\n",
            " 1.0 0.0 1.0 0.0 0.0 0.0 0.0 0.0 0.0 0.0 2.0 1.0 0.0 0.0 0.0 0.0 0.0 0.0\n",
            " 2.0 0.0 2.0 0.0 0.0 0.0 0.0 0.0 0.0 0.0 1.0 0.0 0.0 1.0 0.0 0.0 0.0 0.0\n",
            " 0.0 0.0 0.0 1.0 2.0 0.0 0.0 0.0 0.0 2.0 0.0 1.0 0.0 0.0 0.0 1.0 0.0 0.0\n",
            " 0.0 0.0 1.0 0.0 0.0 0.0 0.0 0.0 0.0 1.0 0.0 0.0 0.0 0.0 0.0 1.0 0.0 0.0\n",
            " 1.0 1.0 1.0 0.0 0.0 0.0 0.0 0.0 0.0 0.0 0.0 0.0 0.0 1.0 0.0 0.0 0.0 0.0\n",
            " 2.0 1.0 0.0 0.0 0.0 0.0 0.0 0.0 0.0 0.0 0.0 1.0 0.0 0.0 2.0 0.0 0.0 0.0\n",
            " 1.5 0.0 1.0 0.0 0.0 0.0 0.0 2.0 0.0 0.0 0.0 0.0 0.0 0.0 0.0 0.0 1.0 0.0\n",
            " 0.0 0.0 1.0 0.0 0.0 0.0 0.0 2.0 0.0 0.0 0.0 0.0 0.0 0.0 0.0 0.0 0.0 0.0\n",
            " 1.0 0.0 0.0 0.0 0.0 0.0 0.0 0.0 2.0 0.0 0.0 0.0 0.0 0.0 0.0 0.0 0.0 0.0\n",
            " 0.0 0.0 0.0 0.0 0.0 0.0 0.0 0.0 0.0 0.0 0.0 0.0 0.0 0.0 0.0 1.0 0.0 0.0\n",
            " 0.0 0.0 0.0 0.0 0.0 1.0 0.0 0.0 0.0 0.0 0.0 0.0 0.0 0.0 0.0 2.0 0.0 0.0\n",
            " 0.0 0.0 1.0 0.0 0.0 0.0 0.0 0.0 0.0 1.0 1.0 0.0 0.0 0.0 0.0 0.0 0.0 0.0\n",
            " 0.0 0.0 0.0 0.0 0.0 0.0 0.0 0.0 0.0 0.0 0.0 0.0 0.0 0.0 0.0 0.0 0.0 0.0\n",
            " 0.0 0.0 0.0 0.0 0.0 0.0 0.0 0.0 0.0 0.0 0.0 0.0 0.0 0.0 0.0 0.0 0.0 1.0\n",
            " 0.0 0.0 0.0 0.0 0.0 0.0 0.0 0.0 0.0 0.0 0.0 0.0 0.0 1.0 0.0 0.0 0.0 1.0\n",
            " 0.0 0.0 0.0 1.0 0.0 0.0 0.0 0.0 0.0 0.0 0.0 0.0 0.0 0.0 0.0 0.0 0.0 0.0\n",
            " 0.0 0.0 0.0 0.0 0.0 0.0 0.0 0.0 0.0 0.0 0.0 0.0 0.0 0.0 0.0 0.0 0.0 0.0\n",
            " 0.0 0.0 0.0 0.0 0.0 0.0 0.0 0.0 0.0 0.0 0.0 0.0 0.0 0.0 0.0 0.0 0.0 0.0\n",
            " 0.0 0.0 0.0 0.0 1.0 0.0 0.0 0.0 0.0 0.0 0.0 0.0 0.0 0.0 0.0 0.0 1.0 0.0\n",
            " 0.0 0.0 0.0 0.0 0.0 0.0 0.0 0.0 0.0 0.0 0.0 0.0 0.0 0.0 0.0 0.0 0.0 0.0\n",
            " 0.0 0.0 0.0 0.0 0.0 0.0 0.0 0.0 0.0 0.0 0.0 0.0 1.0 1.0 1.0 0.0 0.0 0.0\n",
            " 0.0 0.0 0.0 0.0 0.0 0.0 0.0 0.0 0.0 0.0 0.0 0.0 0.0 1.0 0.0 0.0 0.0 0.0\n",
            " 0.0 0.0 0.0 0.0 0.0 0.0 0.0 0.0 0.0 0.0 0.0 0.0 0.0 0.0 0.0 0.0 0.0 0.0\n",
            " 0.0 0.0 0.0 0.0 0.0 0.0 0.0 0.0 0.0 0.0 0.0 0.0 0.0 0.0 1.0 0.0 0.0 0.0\n",
            " 0.0 0.0 0.0 0.0 0.0 0.0 0.0 1.0 1.0 0.0 0.0 0.0 0.0 0.0 0.0 0.0 0.0 0.0\n",
            " 0.0 0.0 0.0 0.0 0.0 0.0 0.0 0.0 0.0 1.0 0.0 0.0 0.0 1.0 0.0 0.0 0.0 0.0\n",
            " 0.0 0.0 0.0 0.0 0.0 0.0 0.0 0.0 0.0 0.0 0.0]\n",
            "['LƯU QUANG ĐÔ' 60108 'THCS Trịnh Hoài Đức' 6 30.0 0.0 5.5 2.4 3.75 11.65\n",
            " 641]\n"
          ]
        }
      ]
    },
    {
      "cell_type": "code",
      "source": [
        "## Đưa ra thông tin của bạn với mã số: 60457\n",
        "## Đưa ra thông tin của bạn với tên là: Nguyễn Đình Nhân\n",
        "## Đưa ra thông tin của các bạn từ mã số: 60004 đến  60200 (Bạn nào không có thì không cần đưa ra)\n",
        "\n",
        "\n",
        "## Tính điểm thi trung bình cho từng bạn sinh viên\n",
        "## Tính điểm thi trung bình theo từng môn cho toàn bộ sinh viên\n",
        "## Đưa ra điểm thi trung bình cao nhất và thấp nhất cho toàn bộ 3 môn.\n",
        "## Xếp danh sách dựa vào điểm trung bình của môn Toán + Anh, tìm bạn có vị trí 100\n",
        "\n",
        "\n",
        "## Giả sử 1 trường lấy toàn bộ 300 sinh viên, dựa theo\n",
        "## a) Điểm môn Toán từ cao xuống thấp\n",
        "## b) Điểm tổng 3 môn và điểm cộng từ cao xuống thấp\n",
        "## c) Điểm trung bình 3 môn từ cao xuống thấp\n",
        "## Đưa ra danh sách những bạn sinh viên được chọn vào trường đó.\n",
        "\n",
        "\n",
        "## So sánh 2 bạn sinh viên mã số: 60575 và 60602 dựa trên tổng điểm 3 môn (không tính điểm cộng)"
      ],
      "metadata": {
        "id": "uUg2uUGOyI-H"
      },
      "execution_count": null,
      "outputs": []
    },
    {
      "cell_type": "code",
      "source": [
        "# Lấy thông tin của sinh viên có mã số là 60457\n",
        "student_info = dataset[dataset['Mã số'] == 60457]\n",
        "print(\"Thông tin của sinh viên có mã số 60457:\")\n",
        "print(student_info)"
      ],
      "metadata": {
        "colab": {
          "base_uri": "https://localhost:8080/"
        },
        "id": "UfrLvo7pypho",
        "outputId": "6b9278ee-d811-4aab-919e-c2695188db35"
      },
      "execution_count": 24,
      "outputs": [
        {
          "output_type": "stream",
          "name": "stdout",
          "text": [
            "Thông tin của sinh viên có mã số 60457:\n",
            "                      Tên  Mã số   Trường cấp 2  Nguyện vọng 1  Nguyện vọng 2  \\\n",
            "100  NGUYỄN LÊ PHƯƠNG TÂM  60457  THCS Phú Long              6            7.0   \n",
            "\n",
            "     Điểm cộng  Văn  Anh  Toán   Tổng  Xếp hạng  \n",
            "100        2.0  7.0  9.4  6.25  24.65       101  \n"
          ]
        }
      ]
    },
    {
      "cell_type": "code",
      "source": [
        "# Lấy thông tin của sinh viên có tên là 'Nguyễn Đình Nhân'\n",
        "student_info = dataset[dataset['Tên'] == 'Nguyễn Đình Nhân']\n",
        "print(\"Thông tin của sinh viên có tên Nguyễn Đình Nhân:\")\n",
        "print(student_info)"
      ],
      "metadata": {
        "colab": {
          "base_uri": "https://localhost:8080/"
        },
        "id": "aRPT4w36yrwO",
        "outputId": "8be4411d-4879-47c7-b89a-9c1c0ab788c7"
      },
      "execution_count": 25,
      "outputs": [
        {
          "output_type": "stream",
          "name": "stdout",
          "text": [
            "Thông tin của sinh viên có tên Nguyễn Đình Nhân:\n",
            "Empty DataFrame\n",
            "Columns: [Tên, Mã số, Trường cấp 2, Nguyện vọng 1, Nguyện vọng 2, Điểm cộng, Văn, Anh, Toán, Tổng, Xếp hạng]\n",
            "Index: []\n"
          ]
        }
      ]
    },
    {
      "cell_type": "code",
      "source": [
        "# thông tin của các bạn từ mã số 60004 đến 60200\n",
        "filtered_data = dataset[(dataset['Mã số'] >= 60004) & (dataset['Mã số'] <= 60200)]\n",
        "print(\"Thông tin của các bạn từ mã số 60004 đến 60200:\")\n",
        "print(filtered_data)\n"
      ],
      "metadata": {
        "colab": {
          "base_uri": "https://localhost:8080/"
        },
        "id": "jE7hRgx6zPdi",
        "outputId": "ee134310-1eef-4eb3-85a4-cbcfb9fcd1c0"
      },
      "execution_count": 31,
      "outputs": [
        {
          "output_type": "stream",
          "name": "stdout",
          "text": [
            "Thông tin của các bạn từ mã số 60004 đến 60200:\n",
            "                     Tên  Mã số               Trường cấp 2  Nguyện vọng 1  \\\n",
            "0           QUÁCH KIM HÀ  60132             THCS Phú Cường              6   \n",
            "2         TRẦN KHẢ DOANH  60075    THCS-THPT Nguyễn Khuyến              6   \n",
            "5     PHẠM LỢI NGỌC HIỀN  60158         THCS Châu Văn Liêm              6   \n",
            "7         ĐẶNG MINH CHÂU  60067  THCS Nguyễn Thị Minh Khai              6   \n",
            "10         NGÔ MỸ GIA AN  60004    THCS-THPT Nguyễn Khuyến              6   \n",
            "..                   ...    ...                        ...            ...   \n",
            "634      NGUYỄN TUẤN ANH  60033            THCS Thanh Bình              6   \n",
            "636        TRẦN NHẬT ANH  60032       THCS Nguyễn Văn Tiết              6   \n",
            "637  DOÃN THỊ PHƯƠNG ANH  60017            THCS Bình Chiểu              6   \n",
            "638       CÙ THỊ GIA HÂN  60151     THCS Nguyễn Trung Trực              6   \n",
            "640         LƯU QUANG ĐÔ  60108        THCS Trịnh Hoài Đức              6   \n",
            "\n",
            "     Nguyện vọng 2  Điểm cộng   Văn  Anh  Toán   Tổng  Xếp hạng  \\\n",
            "0              2.0        3.0  9.00  8.9  8.75  29.65         1   \n",
            "2              7.0        2.0  8.25  9.6  9.25  29.10         3   \n",
            "5              7.0        NaN  8.50  9.9  9.50  27.90         6   \n",
            "7              2.0        NaN  9.00  9.9  9.00  27.90         8   \n",
            "10             2.0        2.0  7.50  9.3  8.75  27.55        11   \n",
            "..             ...        ...   ...  ...   ...    ...       ...   \n",
            "634            8.0        NaN  3.50  4.7  5.50  13.70       635   \n",
            "636            8.0        NaN  6.75  3.9  2.75  13.40       637   \n",
            "637           30.0        NaN  6.25  3.6  3.50  13.35       638   \n",
            "638            8.0        NaN  6.00  3.5  3.25  12.75       639   \n",
            "640           30.0        NaN  5.50  2.4  3.75  11.65       641   \n",
            "\n",
            "     Điểm trung bình  \n",
            "0           8.883333  \n",
            "2           9.033333  \n",
            "5           9.300000  \n",
            "7           9.300000  \n",
            "10          8.516667  \n",
            "..               ...  \n",
            "634         4.566667  \n",
            "636         4.466667  \n",
            "637         4.450000  \n",
            "638         4.250000  \n",
            "640         3.883333  \n",
            "\n",
            "[197 rows x 12 columns]\n"
          ]
        }
      ]
    },
    {
      "cell_type": "code",
      "source": [
        "# Tính điểm trung bình cho từng sinh viên\n",
        "dataset['Điểm trung bình'] = dataset[['Văn', 'Anh', 'Toán']].mean(axis=1)\n",
        "print(dataset['Điểm trung bình'])"
      ],
      "metadata": {
        "colab": {
          "base_uri": "https://localhost:8080/"
        },
        "id": "TX_Ot-EByvLz",
        "outputId": "104f947a-36ff-4fa1-a583-288f68ae5c95"
      },
      "execution_count": 28,
      "outputs": [
        {
          "output_type": "stream",
          "name": "stdout",
          "text": [
            "0      8.883333\n",
            "1      9.200000\n",
            "2      9.033333\n",
            "3      9.333333\n",
            "4      8.650000\n",
            "         ...   \n",
            "636    4.466667\n",
            "637    4.450000\n",
            "638    4.250000\n",
            "639    4.150000\n",
            "640    3.883333\n",
            "Name: Điểm trung bình, Length: 641, dtype: float64\n"
          ]
        }
      ]
    },
    {
      "cell_type": "code",
      "source": [
        "# Tính điểm trung bình theo từng môn cho toàn bộ sinh viên\n",
        "average_scores_by_subject = dataset[['Văn', 'Anh', 'Toán']].mean()\n",
        "print(\"Điểm trung bình theo từng môn:\")\n",
        "print(average_scores_by_subject)"
      ],
      "metadata": {
        "colab": {
          "base_uri": "https://localhost:8080/"
        },
        "id": "JCMFF85ByvH7",
        "outputId": "9acb41b9-fdac-4d41-b5a8-87bdb2dda5f6"
      },
      "execution_count": 29,
      "outputs": [
        {
          "output_type": "stream",
          "name": "stdout",
          "text": [
            "Điểm trung bình theo từng môn:\n",
            "Văn     7.287051\n",
            "Anh     6.996256\n",
            "Toán    7.108034\n",
            "dtype: float64\n"
          ]
        }
      ]
    },
    {
      "cell_type": "code",
      "source": [
        "# Đưa ra điểm trung bình cao nhất và thấp nhất cho toàn bộ 3 môn\n",
        "highest_average = dataset[['Văn', 'Anh', 'Toán']].mean().max()\n",
        "lowest_average = dataset[['Văn', 'Anh', 'Toán']].mean().min()\n",
        "print(\"Điểm trung bình cao nhất:\", highest_average)\n",
        "print(\"Điểm trung bình thấp nhất:\", lowest_average)"
      ],
      "metadata": {
        "colab": {
          "base_uri": "https://localhost:8080/"
        },
        "id": "2wnL3I_TyvEN",
        "outputId": "003bdc11-f515-4b36-c03d-8608bc9ab6ba"
      },
      "execution_count": 30,
      "outputs": [
        {
          "output_type": "stream",
          "name": "stdout",
          "text": [
            "Điểm trung bình cao nhất: 7.287051482059282\n",
            "Điểm trung bình thấp nhất: 6.99625585023401\n"
          ]
        }
      ]
    },
    {
      "cell_type": "code",
      "source": [
        "# Xếp hạng danh sách dựa vào điểm trung bình của môn Toán + Anh\n",
        "dataset['Điểm Toán Anh'] = dataset['Toán'] + dataset['Anh']\n",
        "sorted_dataset = dataset.sort_values(by='Điểm Toán Anh', ascending=False)\n",
        "print(\"Danh sách sinh viên xếp hạng theo điểm Toán + Anh:\")\n",
        "print(sorted_dataset)\n"
      ],
      "metadata": {
        "colab": {
          "base_uri": "https://localhost:8080/"
        },
        "id": "kqz-khc2zlZM",
        "outputId": "ec8d638c-1b82-4c19-f4d8-959d54600932"
      },
      "execution_count": 32,
      "outputs": [
        {
          "output_type": "stream",
          "name": "stdout",
          "text": [
            "Danh sách sinh viên xếp hạng theo điểm Toán + Anh:\n",
            "                     Tên  Mã số               Trường cấp 2  Nguyện vọng 1  \\\n",
            "11        NGUYỄN AN HOÀI  60169    THCS-THPT Nguyễn Khuyến              6   \n",
            "5     PHẠM LỢI NGỌC HIỀN  60158         THCS Châu Văn Liêm              6   \n",
            "3      NGUYỄN MAI PHƯƠNG  60417        THCS Trần Đại Nghĩa              6   \n",
            "8           LÊ MINH NGỌC  60334        THCS Trần Đại Nghĩa              6   \n",
            "23         PHẠM THANH HÀ  60129  THCS Nguyễn Thị Minh Khai              6   \n",
            "..                   ...    ...                        ...            ...   \n",
            "637  DOÃN THỊ PHƯƠNG ANH  60017            THCS Bình Chiểu              6   \n",
            "638       CÙ THỊ GIA HÂN  60151     THCS Nguyễn Trung Trực              6   \n",
            "636        TRẦN NHẬT ANH  60032       THCS Nguyễn Văn Tiết              6   \n",
            "639      NGUYỄN TƯỜNG VY  60622        THCS Trịnh Hoài Đức              6   \n",
            "640         LƯU QUANG ĐÔ  60108        THCS Trịnh Hoài Đức              6   \n",
            "\n",
            "     Nguyện vọng 2  Điểm cộng   Văn   Anh  Toán   Tổng  Xếp hạng  \\\n",
            "11             2.0        NaN  8.00  10.0  9.50  27.50        12   \n",
            "5              7.0        NaN  8.50   9.9  9.50  27.90         6   \n",
            "3              7.0        NaN  8.75  10.0  9.25  28.00         4   \n",
            "8              7.0        NaN  8.75   9.3  9.75  27.80         9   \n",
            "23             2.0        NaN  7.50   9.5  9.50  26.50        24   \n",
            "..             ...        ...   ...   ...   ...    ...       ...   \n",
            "637           30.0        NaN  6.25   3.6  3.50  13.35       638   \n",
            "638            8.0        NaN  6.00   3.5  3.25  12.75       639   \n",
            "636            8.0        NaN  6.75   3.9  2.75  13.40       637   \n",
            "639            8.0        NaN  6.25   3.2  3.00  12.45       640   \n",
            "640           30.0        NaN  5.50   2.4  3.75  11.65       641   \n",
            "\n",
            "     Điểm trung bình  Điểm Toán Anh  \n",
            "11          9.166667          19.50  \n",
            "5           9.300000          19.40  \n",
            "3           9.333333          19.25  \n",
            "8           9.266667          19.05  \n",
            "23          8.833333          19.00  \n",
            "..               ...            ...  \n",
            "637         4.450000           7.10  \n",
            "638         4.250000           6.75  \n",
            "636         4.466667           6.65  \n",
            "639         4.150000           6.20  \n",
            "640         3.883333           6.15  \n",
            "\n",
            "[641 rows x 13 columns]\n"
          ]
        }
      ]
    },
    {
      "cell_type": "code",
      "source": [
        "# Sắp xếp danh sách theo điểm môn Toán từ cao xuống thấp\n",
        "sorted_by_math_score = dataset.sort_values(by='Toán', ascending=False)\n",
        "top_math_students = sorted_by_math_score.head(300)\n",
        "\n",
        "# Sắp xếp danh sách theo tổng điểm 3 môn và điểm cộng từ cao xuống thấp\n",
        "dataset['Tổng điểm'] = dataset[['Văn', 'Anh', 'Toán']].sum(axis=1) + dataset['Điểm cộng']\n",
        "sorted_by_total_score = dataset.sort_values(by='Tổng điểm', ascending=False)\n",
        "top_total_score_students = sorted_by_total_score.head(300)\n",
        "\n",
        "# Sắp xếp danh sách theo điểm trung bình 3 môn từ cao xuống thấp\n",
        "dataset['Điểm trung bình'] = dataset[['Văn', 'Anh', 'Toán']].mean(axis=1)\n",
        "sorted_by_average_score = dataset.sort_values(by='Điểm trung bình', ascending=False)\n",
        "top_average_score_students = sorted_by_average_score.head(300)\n",
        "\n",
        "selected_students = pd.merge(top_math_students, top_total_score_students, how='inner', on=['Mã số', 'Tên'])\n",
        "selected_students = pd.merge(selected_students, top_average_score_students, how='inner', on=['Mã số', 'Tên'])\n",
        "\n",
        "print(\"Danh sách các sinh viên được chọn vào trường dựa trên các tiêu chí:\")\n",
        "print(selected_students[['Tên', 'Mã số', 'Trường cấp 2']])\n"
      ],
      "metadata": {
        "colab": {
          "base_uri": "https://localhost:8080/"
        },
        "id": "-BTXQP9QznrT",
        "outputId": "a2892dc4-daba-4a91-b62f-673efc53dbb8"
      },
      "execution_count": 40,
      "outputs": [
        {
          "output_type": "stream",
          "name": "stdout",
          "text": [
            "Danh sách các sinh viên được chọn vào trường dựa trên các tiêu chí:\n",
            "                            Tên  Mã số               Trường cấp 2\n",
            "0                  LÊ MINH NGỌC  60334        THCS Trần Đại Nghĩa\n",
            "1                 PHẠM THANH HÀ  60129  THCS Nguyễn Thị Minh Khai\n",
            "2                   LƯU MINH ÂN  60037        THCS Trần Đại Nghĩa\n",
            "3            PHẠM LỢI NGỌC HIỀN  60158         THCS Châu Văn Liêm\n",
            "4                NGUYỄN AN HOÀI  60169    THCS-THPT Nguyễn Khuyến\n",
            "..                          ...    ...                        ...\n",
            "190         NGÔ NGUYỄN KHÁNH VY  60612               THCS Phú Hòa\n",
            "191            PHẠM THỊ NGỌC MY  60294       THCS Nguyễn Văn Trỗi\n",
            "192         BÙI MINH KHÁNH ĐOAN  60107            THCS Chu Văn An\n",
            "193  NGUYỄN TRƯỜNG THỤY ANH THƯ  60541        THCS Trịnh Hoài Đức\n",
            "194            PHẠM PHƯƠNG ĐÔNG  60109       THCS Nguyễn Văn Tiết\n",
            "\n",
            "[195 rows x 3 columns]\n"
          ]
        }
      ]
    },
    {
      "cell_type": "code",
      "source": [
        "# So sánh điểm giữa hai sinh viên có mã số 60575 và 60602\n",
        "student_60575 = dataset[dataset['Mã số'] == 60575]\n",
        "student_60602 = dataset[dataset['Mã số'] == 60602]\n",
        "print(\"Thông tin sinh viên có mã số 60575:\")\n",
        "print(student_60575)\n",
        "print(\"Thông tin sinh viên có mã số 60602:\")\n",
        "print(student_60602)"
      ],
      "metadata": {
        "colab": {
          "base_uri": "https://localhost:8080/"
        },
        "id": "J50gly8Y2k1R",
        "outputId": "2abe41a3-d683-4361-c39a-a1ddab0b5f36"
      },
      "execution_count": 41,
      "outputs": [
        {
          "output_type": "stream",
          "name": "stdout",
          "text": [
            "Thông tin sinh viên có mã số 60575:\n",
            "                      Tên  Mã số         Trường cấp 2  Nguyện vọng 1  \\\n",
            "151  NGUYỄN THỊ THÙY TRÂM  60575  THCS Trịnh Hoài Đức              6   \n",
            "\n",
            "     Nguyện vọng 2  Điểm cộng   Văn  Anh  Toán   Tổng  Xếp hạng  \\\n",
            "151            8.0        2.0  5.75  8.6   7.5  23.85       152   \n",
            "\n",
            "     Điểm trung bình  Điểm Toán Anh  Tổng điểm  \n",
            "151         7.283333           16.1      23.85  \n",
            "Thông tin sinh viên có mã số 60602:\n",
            "                    Tên  Mã số     Trường cấp 2  Nguyện vọng 1  Nguyện vọng 2  \\\n",
            "191  PHÙNG THỊ HỒNG VÂN  60602  THCS Bình Chuẩn              6           30.0   \n",
            "\n",
            "     Điểm cộng   Văn  Anh  Toán  Tổng  Xếp hạng  Điểm trung bình  \\\n",
            "191        NaN  6.25  7.8  9.25  23.3       192         7.766667   \n",
            "\n",
            "     Điểm Toán Anh  Tổng điểm  \n",
            "191          17.05        NaN  \n"
          ]
        }
      ]
    }
  ]
}